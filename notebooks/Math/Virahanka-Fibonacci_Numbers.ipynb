{
 "cells": [
  {
   "cell_type": "markdown",
   "metadata": {},
   "source": [
    "## The Virahanka-Fibonacci Numbers"
   ]
  },
  {
   "cell_type": "markdown",
   "metadata": {},
   "source": [
    "The $\\textbf{Virahanka-Fibonacci}$ sequence of natural numbers is defined ${\\bf recursively}$ as follows:\n"
   ]
  },
  {
   "cell_type": "markdown",
   "metadata": {},
   "source": [
    "Let $F_0=0$, let $F_1=1$."
   ]
  },
  {
   "cell_type": "markdown",
   "metadata": {},
   "source": [
    "For  $n=2,3,4,\\dots$ let  $F_n=F_{n-1}+F_{n-2}$."
   ]
  },
  {
   "cell_type": "markdown",
   "metadata": {},
   "source": [
    "Thus, the next few terms of the ${\\textbf{Virahanka-Fibonacci sequence}}$ are:"
   ]
  },
  {
   "cell_type": "markdown",
   "metadata": {},
   "source": [
    "$$\\begin{eqnarray*}\n",
    "F_{2} &=&F_{1}+F_{0}=1+0=1 \\\\\n",
    "F_{3} &=&F_{2}+F_{1}=1+1=2 \\\\\n",
    "F_{4} &=&F_{3}+F_{2}=2+1=3 \\\\\n",
    "F_{5} &=&F_{4}+F_{3}=3+2=5 \\\\\n",
    "F_{6} &=&F_{5}+F_{4}=5+3=8 \\\\\n",
    "F_{7} &=&F_{6}+F_{5}=8+5=13 \\\\\n",
    "&&\\vdots\n",
    "\\end{eqnarray*}\n",
    "$$"
   ]
  },
  {
   "cell_type": "markdown",
   "metadata": {},
   "source": [
    "These numbers are most commonly known as the $\\textit{Fibonacci numbers}$, after the Italian mathematician $\\textbf{L. Fibonacci}$ (c. A.D. 1202). However, these numbers were first described hundred of years before by Indian mathematicians, the first of such mathematicians for whom today there is written record was $\\textbf{Virahanka}$ (c. between A.D.600 and A.D.800).\n",
    "\n",
    "It is difficult to overcome the usage of a name adoped hundred of years ago, and so in what follows we will refer to the Virahanka-Fibonacci numbers as the \"Fibonacci numers\", for simplicity."
   ]
  },
  {
   "cell_type": "markdown",
   "metadata": {},
   "source": [
    "$\\textbf{Exercise 1}$ Check the following article about the \"so-called Fibonacci\" numbers in ancient India: https://www.sciencedirect.com/science/article/pii/0315086085900217"
   ]
  },
  {
   "cell_type": "markdown",
   "metadata": {},
   "source": [
    "For a great exposition about the motivation (poetry and linguistics) of these early mathematicians to study these special set of numbers, and to learn about some facinating properties of them, check the following video:"
   ]
  },
  {
   "cell_type": "code",
   "execution_count": 8,
   "metadata": {},
   "outputs": [
    {
     "data": {
      "image/jpeg": "[encoded data removed]",
      "text/html": [
       "\n",
       "        <iframe\n",
       "            width=\"400\"\n",
       "            height=\"300\"\n",
       "            src=\"https://www.youtube.com/embed/LP253wHIoO8?start=2633\"\n",
       "            frameborder=\"0\"\n",
       "            allowfullscreen\n",
       "        ></iframe>\n",
       "        "
      ],
      "text/plain": [
       "<IPython.lib.display.YouTubeVideo at 0x7f4da83839e8>"
      ]
     },
     "execution_count": 8,
     "metadata": {},
     "output_type": "execute_result"
    }
   ],
   "source": [
    "from IPython.display import YouTubeVideo\n",
    "YouTubeVideo('LP253wHIoO8', start=2633) "
   ]
  },
  {
   "cell_type": "markdown",
   "metadata": {},
   "source": [
    "Here is a list of the first 40 Fibonacci numbers:"
   ]
  },
  {
   "cell_type": "markdown",
   "metadata": {},
   "source": [
    "$$\n",
    "\\begin{array}{rrrrrrrrrrrrrrr}\n",
    "0 &  & 1 &  & 1 &  & 2 &  & 3 &  & 5 &  & 8 &  & 13 \\\\ \n",
    "&  &  &  &  &  &  &  &  &  &  &  &  &  &  \\\\ \n",
    "21 &  & 34 &  & 55 &  & 89 &  & 144 &  & 233 &  & 377 &  & 610 \\\\ \n",
    "&  &  &  &  &  &  &  &  &  &  &  &  &  &  \\\\ \n",
    "987 &  & 1597 &  & 2584 &  & 4181 &  & 6765 &  & 10946 &  & 17711 &  & 28657\n",
    "\\\\ \n",
    "&  &  &  &  &  &  &  &  &  &  &  &  &  &  \\\\ \n",
    "46368 &  & 75025 &  & 121393 &  & 196418 &  & 317811 &  & 614229 &  & 832040\n",
    "&  & 1346269 \\\\ \n",
    "&  &  &  &  &  &  &  &  &  &  &  &  &  &  \\\\ \n",
    "2178309 &  & 3524578 &  & 5702887 &  & 9227465 &  & 14930352 &  & 24157817 & \n",
    "& 39088169 &  & 63245986%\n",
    "\\end{array}$$\n"
   ]
  },
  {
   "cell_type": "markdown",
   "metadata": {},
   "source": [
    "$\\textbf{Exercise 2}$ Write a code that computes the first N Fibonacci numbers, saves them into an array, and displays them on the screen."
   ]
  },
  {
   "cell_type": "code",
   "execution_count": 46,
   "metadata": {},
   "outputs": [
    {
     "name": "stdout",
     "output_type": "stream",
     "text": [
      "Please enter how many elements of the Fibonacci sequence to generate:22\n",
      "[0, 0, 1, 1, 2, 3, 5, 8, 13, 21, 34, 55, 89, 144, 233, 377, 610, 987, 1597, 2584, 4181, 6765, 10946]\n"
     ]
    }
   ],
   "source": [
    "N = int(input(\"Please enter how many elements of the Fibonacci sequence to generate:\"))\n",
    "F=[i for i in range(N+1)]\n",
    "F[1]=0\n",
    "F[2]=1\n",
    "for i in range(3, N+1):\n",
    "    F[i]=F[i-1]+F[i-2]\n",
    "\n",
    "print(F)"
   ]
  },
  {
   "cell_type": "markdown",
   "metadata": {},
   "source": [
    "As we can see, this sequence grows pretty fast. The Fibonacci numbers seem\n",
    "to have one more digit about every five indexes."
   ]
  },
  {
   "cell_type": "markdown",
   "metadata": {},
   "source": [
    "## The Golden Ratio"
   ]
  },
  {
   "cell_type": "markdown",
   "metadata": {},
   "source": [
    "One of the ways to study the growth of a sequence is to consider the related\n",
    "sequence of ratios between consecutive terms. We define the sequence of\n",
    "ratios:"
   ]
  },
  {
   "cell_type": "markdown",
   "metadata": {},
   "source": [
    "$$R_{n}=\\frac{F_{n+1}}{F_{n}}\\qquad\\text{ for }n=1,2,3,4,\\dots $$"
   ]
  },
  {
   "cell_type": "markdown",
   "metadata": {},
   "source": [
    "The first terms on the squence of ratios $R_n$ are"
   ]
  },
  {
   "cell_type": "markdown",
   "metadata": {},
   "source": [
    "$$\n",
    "\\begin{eqnarray*}\n",
    "R_{1} &=&\\frac{F_{2}}{F_{1}}=\\frac{1}{1}=1 \\\\\n",
    "R_{2} &=&\\frac{F_{3}}{F_{2}}=\\frac{2}{1}=2 \\\\\n",
    "R_{3} &=&\\frac{F_{4}}{F_{3}}=\\frac{3}{2}=1.5 \\\\\n",
    "R_{4} &=&\\frac{F_{5}}{F_{4}}=\\frac{5}{3}=1.666... \\\\\n",
    "R_{5} &=&\\frac{F_{6}}{F_{5}}=\\frac{8}{5}=1.6 \\\\\n",
    "R_{6} &=&\\frac{F_{7}}{F_{6}}=\\frac{13}{8}=1.625 \\\\\n",
    "R_{7} &=&\\frac{F_{8}}{F_{7}}=\\frac{21}{13}\\approx 1.6154\\dots \\\\\n",
    "R_{8} &=&\\frac{F_{9}}{F_{8}}=\\frac{34}{21}\\approx 1.619\\dots \\\\\n",
    "R_{9} &=&\\frac{F_{10}}{F_{9}}=\\frac{55}{34}\\approx 1.6176\\dots \\\\\n",
    "&&\\vdots\n",
    "\\end{eqnarray*}$$"
   ]
  },
  {
   "cell_type": "markdown",
   "metadata": {},
   "source": [
    "$\\textbf{Exercise 3}$ Write a code that computes the first N ratios $R_n$, save them it into an array, and displays them on the screen."
   ]
  },
  {
   "cell_type": "code",
   "execution_count": 17,
   "metadata": {},
   "outputs": [
    {
     "name": "stdout",
     "output_type": "stream",
     "text": [
      "Please enter how many elements of the ratio sequence $R_n$ to generate:10\n",
      "[0, 1, 2.0, 1.5, 1.6666666666666665, 1.6, 1.625, 1.6153846153846154, 1.619047619047619, 1.6176470588235294]\n"
     ]
    },
    {
     "data": {
      "text/plain": [
       "[-0.5, 10, -0.2, 2.2]"
      ]
     },
     "execution_count": 17,
     "metadata": {},
     "output_type": "execute_result"
    },
    {
     "data": {
      "image/png": "[encoded data removed]",
      "text/plain": [
       "<matplotlib.figure.Figure at 0x7fb034ca2c18>"
      ]
     },
     "metadata": {},
     "output_type": "display_data"
    }
   ],
   "source": [
    "N = int(input(\"Please enter how many elements of the ratio sequence $R_n$ to generate:\"))\n",
    "x=[i for i in range(N)]\n",
    "R=[i for i in range(N)]\n",
    "R[1]=1\n",
    "for i in range(2, N):\n",
    "    R[i]=1+1/R[i-1]\n",
    "\n",
    "print(R)\n",
    "\n",
    "%matplotlib inline\n",
    "import numpy as np\n",
    "import matplotlib.pyplot as plt \n",
    "plt.plot(x,R,'ro')\n",
    "plt.title('The first N Ratios $R_n$')\n",
    "plt.xlabel('$n$')\n",
    "plt.ylabel('$R_n$')\n",
    "plt.axis([-.5, N, -.2, 2.2])"
   ]
  },
  {
   "cell_type": "markdown",
   "metadata": {
    "collapsed": true
   },
   "source": [
    "Zooming in on the graph, we see that the sequence seems to oscillate and get progressively closer to some fixed unknown number."
   ]
  },
  {
   "cell_type": "code",
   "execution_count": 2,
   "metadata": {},
   "outputs": [
    {
     "data": {
      "text/plain": [
       "[3, 20, 1.594, 1.67]"
      ]
     },
     "execution_count": 2,
     "metadata": {},
     "output_type": "execute_result"
    },
    {
     "data": {
      "image/png": "[encoded data removed]",
      "text/plain": [
       "<matplotlib.figure.Figure at 0x7fb03532c908>"
      ]
     },
     "metadata": {},
     "output_type": "display_data"
    }
   ],
   "source": [
    "N = 21\n",
    "x=[i for i in range(N)]\n",
    "R=[i for i in range(N)]\n",
    "phi=[1.618033989 for i in range(N)]\n",
    "\n",
    "R[1]=1\n",
    "for i in range(2, N):\n",
    "    R[i]=1+1/R[i-1]\n",
    "    \n",
    "\n",
    "%matplotlib inline\n",
    "import numpy as np\n",
    "import matplotlib.pyplot as plt \n",
    "plt.plot(x[3:21],R[3:21],'ro')\n",
    "plt.plot(x[3:21],phi[3:21])\n",
    "plt.title('The Ratios seem to converge')\n",
    "plt.xlabel('$n$')\n",
    "plt.ylabel('$R_n$')\n",
    "plt.axis([3, 20, 1.594, 1.67])"
   ]
  },
  {
   "cell_type": "markdown",
   "metadata": {},
   "source": [
    "We could conjecture that the sequence of ratios might be ${converging}$\n",
    "to some fixed real number! \n",
    "\n",
    "Assuming that this is true, do the following:\n",
    "\n",
    "$\\textbf{Exercise 4}$ Write a code that numerically approximates the limit $\\varphi$ with a chosen number of digits of accuracy.\n",
    "Namely, given a chosen number of digits $d$, say, $1\\le d\\le 15$, white a program that computes succesive rations $R_n$ and stops when $|R_{n+1}-R_n|$ is smaller than $\\frac{1}{2}10^{-(d-1)}$. Then display the approximate value $R_{n+1}$ of $\\varphi$."
   ]
  },
  {
   "cell_type": "code",
   "execution_count": 25,
   "metadata": {},
   "outputs": [
    {
     "name": "stdout",
     "output_type": "stream",
     "text": [
      "Please enter how many digits of accuracy you require for the stimated limit : 13\n",
      "Estimated limit R_{n-1} =  1.618033988749989 |R_{n+1}-R_n| =  3.4083846855992306e-13 Number of iterations :  32\n"
     ]
    }
   ],
   "source": [
    "d = int(input(\"Please enter how many digits of accuracy you require for the stimated limit : \"))\n",
    "\n",
    "R1=1\n",
    "R2=2\n",
    "acc = 10**(-(d-1))/2\n",
    "error = 1\n",
    "count = 2\n",
    "while error >= acc:\n",
    "    R1=R2\n",
    "    R2=1+1/R1\n",
    "    error = abs(R2-R1)\n",
    "    count = count + 1\n",
    "\n",
    "print(\"Estimated limit R_{n-1} = \",R2, \"|R_{n+1}-R_n| = \",error , \"Number of iterations : \",count)"
   ]
  },
  {
   "cell_type": "markdown",
   "metadata": {},
   "source": [
    "Lets assume that the rations coverge to a number $\\varphi$ (see the proof of this fact in the appendix), that is, lets assume that there exists a real\n",
    "number ${\\varphi }$ such that\n",
    "$$\n",
    "\\lim_{n\\rightarrow \\infty }R_{n}={\\varphi .}\n",
    "$$\n",
    "This means that for evey small number $\\varepsilon >0$, no matter how small\n",
    "(like $\\varepsilon =0.00000000000000.......0000001$), there exists a first\n",
    "index $N$ such that if $n>N$, then the distance between $R_{n}$ and ${%\n",
    "\\varphi }$ is less than $\\varepsilon $, that is:\n",
    "$$\n",
    "n>N\\quad \\Longrightarrow \\quad \\left\\vert R_{n}-{\\varphi }\\right\\vert\n",
    "<\\varepsilon .$$\n",
    "By the definition of $R_{n}$ and $F_{n}$, we have that\n",
    "$$\n",
    "R_{n+1}=\\frac{F_{n+2}}{F_{n+1}}=\\frac{F_{n+1}+F_{n}}{F_{n+1}}=1+\\frac{F_{n}}{%\n",
    "F_{n+1}}=1+\\frac{1}{\\frac{F_{n+1}}{F_{n}}}=1+\\frac{1}{R_{n}}.\n",
    "$$\n",
    "Since we assumed that $R_{n}\\rightarrow {\\varphi }$ as $n\\rightarrow \\infty $, then we also\n",
    "have that $R_{n+1}\\rightarrow {\\varphi }$ as ${n\\rightarrow \\infty }$. Hence\n",
    "$$\n",
    "{\\varphi =}\\lim_{n\\rightarrow \\infty }R_{n+1}=\\lim_{n\\rightarrow \\infty\n",
    "}\\left( 1+\\frac{1}{R_{n}}\\right) =1+\\frac{1}{\\lim_{n\\rightarrow \\infty }R_{n}%\n",
    "}=1+\\frac{1}{{\\varphi }}.\n",
    "$$\n",
    "\n",
    "\n",
    "We obtain the identity\n",
    "$${\\varphi =1+}\\frac{1}{{\\varphi }}.$$\n",
    "Multipying by ${\\varphi }$ and putting all the terms on one side, this is\n",
    "equivalent to\n",
    "$${\\varphi }^{2}-{\\varphi -1=0.}$$"
   ]
  },
  {
   "cell_type": "markdown",
   "metadata": {},
   "source": [
    "So, ${\\varphi }$ is a root of the polynomial\n",
    "$$x^{2}-x-1=0.$$\n",
    "Applying the quadratic resolvent, we have that\n",
    "$$x=\\frac{1\\pm \\sqrt{1+4}}{2}=\\frac{1\\pm \\sqrt{5}}{2}.$$\n",
    "Since ${\\varphi }$ is not negative (as all the terms in the sequence $%\n",
    "R_{n}$ are positive), we must have that \n",
    "$${\\varphi =}\\frac{{1+}\\sqrt{5}}{2}\\approx 1.618033989\\dots \\qquad \\text{(the\n",
    "golden ratio).}$$"
   ]
  },
  {
   "cell_type": "markdown",
   "metadata": {},
   "source": [
    "This number is known as the $\\textbf{golden ratio}$ because if we were to\n",
    "divide a segment of length $1$ into two pieces (of different length), one of\n",
    "length $x$ and one of length $1-x$, in such a way that the ratio of the\n",
    "whole segment with respect to the larger portion (say $x$) is equal to the\n",
    "ratio of the larger portion with respect to the shorter one; that is:"
   ]
  },
  {
   "cell_type": "code",
   "execution_count": 16,
   "metadata": {
    "scrolled": true
   },
   "outputs": [
    {
     "data": {
      "image/png": "[encoded data removed]",
      "text/plain": [
       "<matplotlib.figure.Figure at 0x7f470662c240>"
      ]
     },
     "metadata": {},
     "output_type": "display_data"
    }
   ],
   "source": [
    "%matplotlib inline\n",
    "import matplotlib.pyplot as plt\n",
    "import matplotlib.image as mpimg\n",
    "import numpy as np\n",
    "img = mpimg.imread('270px-Golden_ratio_one.png')\n",
    "plt.axis('off')\n",
    "imgplot = plt.imshow(img)"
   ]
  },
  {
   "cell_type": "markdown",
   "metadata": {},
   "source": [
    "We have:\n",
    "$$\n",
    "\\begin{array}{lcr}\n",
    "\\textrm{Ratio of the whole }&  &\\textrm{ Ratio of the larger }\\\\ \n",
    "\\textrm{segment over the }& =R=\\dfrac{1}{x}=\\dfrac{x}{1-x}=\\dfrac{1}{\\frac{1}{x}-1}=%\n",
    "\\dfrac{1}{R-1}= &\\textrm{ potion over the }\\\\ \n",
    "\\textrm{larger portion }&  &\\textrm{ shorter one}%\n",
    "\\end{array}\n",
    "$$"
   ]
  },
  {
   "cell_type": "markdown",
   "metadata": {},
   "source": [
    "We obtain that $R$ must satisfy $R^{2}-R-1=0$, so $R={\\varphi =}\\frac{{1+}%\n",
    "\\sqrt{5}}{2}$."
   ]
  },
  {
   "cell_type": "markdown",
   "metadata": {},
   "source": [
    "For more information about the goden ration see\n",
    "https://en.wikipedia.org/wiki/Golden\\_ratio"
   ]
  },
  {
   "cell_type": "markdown",
   "metadata": {},
   "source": [
    "## A Formula for the Fibonaccy Sequence $F_n$"
   ]
  },
  {
   "cell_type": "markdown",
   "metadata": {},
   "source": [
    "We know how to compute the Fibonacci sequence using a recursive process.\n",
    "However, this process requires us to know ALL previous members of the\n",
    "sequence to compute the next one (why?). It would be nice to have a $\\textit{\n",
    "closed expression formula}$ to compute the Fibonacci numbers $F_{n}$, that\n",
    "is, we would like to find a function $f\\left( x\\right) $ with $f$ given by a $formula$ in terms of the variable $x$ such that \n",
    "$$f\\left( n\\right) =F_{n}\\qquad \\text{for }n=0,1,2,3,\\dots $$"
   ]
  },
  {
   "cell_type": "markdown",
   "metadata": {},
   "source": [
    "We start by playing a little with the golden ratio number ${\\varphi =}\\frac{{%\n",
    "1+}\\sqrt{5}}{2}$, and the other root of the polynomial $x^{2}-x-1=0$, which\n",
    "we will write as $\\psi =\\frac{{1-}\\sqrt{5}}{2}$, so both ${\\varphi }$ and $%\n",
    "\\psi $ satisfy\n",
    "$${\\varphi =1+}\\frac{1}{{\\varphi }}\\qquad \\text{and}\\qquad \\psi =1+\\frac{1}{%\n",
    "\\psi }.$$"
   ]
  },
  {
   "cell_type": "markdown",
   "metadata": {},
   "source": [
    "Then, multiplying by ${\\varphi }$, ${\\varphi }^{2}$, ${\\varphi }^{3}$, $%\n",
    "\\dots $, and by $\\psi $, $\\psi ^{2}$, $\\psi ^{3}$, $\\dots $ , respectively, we see that\n"
   ]
  },
  {
   "cell_type": "markdown",
   "metadata": {},
   "source": [
    "$$\\begin{eqnarray*}\n",
    "{\\varphi }^{2} &=&{\\varphi +1,\\quad {\\varphi }}^{3}={\\varphi }^{2}+{\\varphi\n",
    ",\\quad {\\varphi }}^{4}={\\varphi }^{3}+{\\varphi }^{2},\\qquad \\dots \\qquad {%\n",
    "\\varphi }^{n+2}={\\varphi }^{n+1}+{\\varphi }^{n},\\quad \\text{and} \\\\\n",
    "\\psi ^{2} &=&\\psi +1,\\quad \\psi ^{3}=\\psi ^{2}+\\psi ,\\quad \\psi ^{4}=\\psi\n",
    "^{3}+\\psi ^{2},\\qquad \\dots \\qquad \\psi ^{n+2}=\\psi ^{n+1}+\\psi ^{n}.\n",
    "\\end{eqnarray*}$$"
   ]
  },
  {
   "cell_type": "markdown",
   "metadata": {},
   "source": [
    "Notice that these relations look \"exactly\" like the inductive definition of $%\n",
    "F_{n+2}=F_{n+1}+F_{n}$. We then propose the function\n",
    "$$f\\left( x\\right) =a{\\varphi }^{x}+b\\psi ^{x}\\qquad \\text{where }a,b\\text{\n",
    "are constants to be determined.}$$"
   ]
  },
  {
   "cell_type": "markdown",
   "metadata": {},
   "source": [
    "Notice that\n",
    "$$\\begin{eqnarray*}\n",
    "f\\left( n+2\\right)  &=&a{\\varphi }^{n+2}+b\\psi ^{n+2} \\\\\n",
    "&=&a\\left( {\\varphi }^{n+1}+{\\varphi }^{n}\\right) +b\\left( \\psi ^{n+1}+\\psi\n",
    "^{n}\\right)  \\\\\n",
    "&=&a{\\varphi }^{n+1}+b\\psi ^{n+1}+a{\\varphi }^{n}+b\\psi ^{n} \\\\\n",
    "&=&f\\left( n+1\\right) +f\\left( n\\right) .\n",
    "\\end{eqnarray*}$$\n",
    "\n",
    "So $f\\left( x\\right) $ satisies the same recursive relations over the\n",
    "natural numbers as the Fibonacci sequence. Since we want $f\\left( n\\right)\n",
    "=F_{n}$ for all $n=0,1,2,3,\\dots $, all we need is that these equalities\n",
    "hold for $n=0$ and $n=1$, because then the recursive relation will make it\n",
    "true for all values of $n\\geq 1$ (prove this!). That is, we need\n",
    "\n",
    "$$\\begin{eqnarray*}\n",
    "f\\left( 0\\right)  &=&a+b=0. \\\\\n",
    "f\\left( 1\\right)  &=&a{\\varphi }+b\\psi =1.\n",
    "\\end{eqnarray*}$$\n",
    "\n",
    "From the first equation, we have that $b=-a$, so plugging it into the second\n",
    "equation,\n",
    "\n",
    "$$a{\\varphi -a\\psi =1\\qquad \\Longrightarrow \\qquad a=}\\frac{{1}}{{\\varphi\n",
    "-\\psi }}=\\frac{1}{\\frac{1+\\sqrt{5}}{2}-\\frac{1-\\sqrt{5}}{2}}=\\frac{1}{\\sqrt{5%\n",
    "}}.$$\n",
    "\n",
    "Therefore $b=-{a=-}\\frac{{1}}{{\\varphi -\\psi }}=-\\frac{1}{\\sqrt{5}}$. We\n",
    "obtain\n",
    "\n",
    "$$f\\left( x\\right) =\\frac{{\\varphi }^{x}-\\psi ^{x}}{{\\varphi -\\psi }}=\\frac{1}{%\n",
    "\\sqrt{5}}\\left( {\\varphi }^{x}-\\psi ^{x}\\right) =\\frac{1}{\\sqrt{5}}\\left(\n",
    "\\left( \\frac{1+\\sqrt{5}}{2}\\right) ^{x}-\\left( \\frac{1-\\sqrt{5}}{2}\\right)\n",
    "^{x}\\right) .$$\n",
    "\n",
    "This function satisfies $f\\left( n\\right) =F_{n}$ for all $n=0,1,2,3\\dots $."
   ]
  },
  {
   "cell_type": "markdown",
   "metadata": {},
   "source": [
    "HOWEVER, this function is not well defined for values of $x$ other than\n",
    "integers. The problem is the term $\\psi ^{x}=\\left( \\frac{1-\\sqrt{5}}{2}%\n",
    "\\right) ^{x}$. This is the power of a negative number, which is in general\n",
    "not well defined in the real numbers unless the exponent is an integer. To\n",
    "overcome this technical difficulty, we write\n",
    "\n",
    "$$\\psi ^{x}=\\left( -\\left( -\\psi \\right) \\right) ^{x}=\\left( -\\left( \\frac{%\n",
    "\\sqrt{5}-1}{2}\\right) \\right) ^{x}=\\left( -1\\right) ^{x}\\left( \\frac{\\sqrt{5}%\n",
    "-1}{2}\\right) ^{x}. $$\n",
    "\n",
    "We localized the problem into the powers of $-1$ for the term $\\left(\n",
    "-1\\right) ^{x}$. Since $\\frac{\\sqrt{5}-1}{2}>0$, $\\left( \\frac{\\sqrt{5}-1}{2}%\n",
    "\\right) ^{x}$ is well-defined for all real numbers $x$. As of now, the\n",
    "function $\\left( -1\\right) ^{x}$ is \\emph{only defined} for $x$ being and\n",
    "integer. We would like to replace the term $\\left( -1\\right) ^{x}$ by a\n",
    "continuous function $m\\left( x\\right) $ such that $m\\left( n\\right) =\\left(\n",
    "-1\\right) ^{n}$ for all integers $n$. That is,\n",
    "\n",
    "$$m\\left( n\\right) =1\\quad \\text{if }n\\text{ is even }\\quad\\text{and}\\quad m\\left(\n",
    "n\\right) =-1\\quad \\text{if }n\\text{ is odd.} $$\n",
    "\n",
    "This suggest that $m\\left( x\\right) $ should be some kind of oscillating\n",
    "function, like a $wave$. Since the most basic oscillating functions we know\n",
    "are $\\sin \\left( t\\right) $ and $\\cos \\left( t\\right) $, by some inspection\n",
    "we see that\n",
    "\n",
    "$$m\\left( x\\right) =\\cos \\left( \\pi x\\right) \\qquad \\text{does the job.} $$\n",
    "That is:\n",
    "$$\\cos \\left( n\\pi \\right) =1\\quad \\text{if }n\\text{ is even}\\quad\\text{ and}\\quad %\n",
    "\\cos \\left( n\\pi \\right) =-1\\quad \\text{if }n\\text{ is odd.}$$"
   ]
  },
  {
   "cell_type": "markdown",
   "metadata": {},
   "source": [
    "Hence, we obtain the following closed formula for our function $f\\left(\n",
    "x\\right) :$\n",
    "\n",
    "$$\\begin{eqnarray*}\n",
    "f\\left( x\\right)  &=&\\frac{{\\varphi }^{x}-\\left( -1\\right) ^{x}\\left( -\\psi\n",
    "\\right) ^{x}}{{\\varphi -\\psi }}=\\frac{1}{\\sqrt{5}}\\left( {\\varphi }%\n",
    "^{x}-\\left( -1\\right) ^{x}\\left( -\\psi \\right) ^{x}\\right)  \\\\\n",
    "&=&\\frac{1}{\\sqrt{5}}\\left( \\left( \\frac{1+\\sqrt{5}}{2}\\right) ^{x}-\\cos\n",
    "\\left( \\pi x\\right) \\left( \\frac{\\sqrt{5}-1}{2}\\right) ^{x}\\right) .\n",
    "\\end{eqnarray*}$$"
   ]
  },
  {
   "cell_type": "code",
   "execution_count": 28,
   "metadata": {},
   "outputs": [
    {
     "data": {
      "text/plain": [
       "<matplotlib.text.Text at 0x7f7cea1a06d8>"
      ]
     },
     "execution_count": 28,
     "metadata": {},
     "output_type": "execute_result"
    },
    {
     "data": {
      "image/png": "[encoded data removed]",
      "text/plain": [
       "<matplotlib.figure.Figure at 0x7f7cea41e748>"
      ]
     },
     "metadata": {},
     "output_type": "display_data"
    }
   ],
   "source": [
    "%matplotlib inline\n",
    "import numpy as np\n",
    "import matplotlib.pyplot as plt \n",
    "import math\n",
    "N=11\n",
    "xx=[i for i in range(N+1)]\n",
    "yy=[i for i in range(N+1)]\n",
    "x=[i for i in range(5*N+2)]\n",
    "y=[i for i in range(5*N+2)]\n",
    "xx[0]=0\n",
    "xx[1]=1\n",
    "yy[0]=0\n",
    "yy[1]=1\n",
    "ph=(1+5**(1/2))/2\n",
    "ps=(5**(1/2)-1)/2\n",
    "rc=5**(1/2)\n",
    "for i in range(2, N+1):\n",
    "    yy[i]=yy[i-1]+yy[i-2]\n",
    "\n",
    "\n",
    "\n",
    "for i in range(0, 5*N+2):\n",
    "    x[i]=i/5\n",
    "    y[i]= ((ph**x[i] - math.cos(math.pi*x[i])*ps**x[i]))/rc\n",
    "\n",
    "\n",
    "plt.plot(x,y)\n",
    "plt.plot(xx,yy,'ro')\n",
    "plt.axis([-.5,12,-2, 100])\n",
    "plt.title(\"The function f(x) (blue) and the numbers F_n (red)\")"
   ]
  },
  {
   "cell_type": "markdown",
   "metadata": {},
   "source": [
    "We have proven:\n"
   ]
  },
  {
   "cell_type": "markdown",
   "metadata": {},
   "source": [
    "$\\textbf{Theorem}$ $\\textit{The function}$\n",
    "\n",
    "$$f\\left( x\\right) =\\frac{{\\varphi }^{x}-\\cos \\left( x\\pi \\right) \\left( -\\psi\n",
    "\\right) ^{x}}{{\\varphi -\\psi }}=\\frac{1}{\\sqrt{5}}\\left( \\left( \\frac{1+%\n",
    "\\sqrt{5}}{2}\\right) ^{x}-\\cos \\left( x\\pi \\right) \\left( \\frac{\\sqrt{5}-1}{2}%\n",
    "\\right) ^{x}\\right) $$\n",
    "\n",
    "$\\textit{is continuous in } \\mathbb{R} \\textit{ and it satisfies} $\n",
    "\n",
    "$$f\\left( n\\right) =F_{n}\\qquad\\textit{for }n=0,1,2,3,\\dots$$\n",
    "\n",
    "$\\textit{where } F_n\\textit{ are the Fibonacci numbers.}$"
   ]
  },
  {
   "cell_type": "markdown",
   "metadata": {},
   "source": [
    "Since the function $f$ is defined for all real numbers, we could use it to\n",
    "extend the Fibonacci sequence to negative indexes."
   ]
  },
  {
   "cell_type": "code",
   "execution_count": 75,
   "metadata": {},
   "outputs": [
    {
     "data": {
      "text/plain": [
       "<matplotlib.text.Text at 0x7f7ce94a3898>"
      ]
     },
     "execution_count": 75,
     "metadata": {},
     "output_type": "execute_result"
    },
    {
     "data": {
      "image/png": "[encoded data removed]",
      "text/plain": [
       "<matplotlib.figure.Figure at 0x7f7ce9770da0>"
      ]
     },
     "metadata": {},
     "output_type": "display_data"
    }
   ],
   "source": [
    "%matplotlib inline\n",
    "import numpy as np\n",
    "import matplotlib.pyplot as plt \n",
    "import math\n",
    "N=11\n",
    "xx=[i for i in range(-N-1,N+2)]\n",
    "\n",
    "yy=[i for i in range(-N-1,N+2)]\n",
    "x=[i for i in range(-10*N-2,10*N+3)]\n",
    "y=[i for i in range(-10*N-2,10*N+3)]\n",
    "xx[N+1]=0\n",
    "xx[N+2]=1\n",
    "yy[N+1]=0\n",
    "yy[N+2]=1\n",
    "yy[N]=1\n",
    "ph=(1+5**(1/2))/2\n",
    "ps=(5**(1/2)-1)/2\n",
    "rc=5**(1/2)\n",
    "for i in range(2, N+2):\n",
    "    yy[i+N+1]=yy[i+N]+yy[i-1+N]\n",
    "    yy[N-i+1]=yy[N-i+3]-yy[N-i+2]\n",
    "\n",
    "D=10*N+2\n",
    "for i in range(-10*N-2, 10*N+3):\n",
    "    x[i+D]=(i)/10\n",
    "    y[i+D]= ((ph**x[i+D] - math.cos(math.pi*x[i+D])*ps**x[i+D]))/rc\n",
    "\n",
    "plt.plot(x,y)\n",
    "plt.plot(xx,yy,'ro')\n",
    "plt.axis([-13,13,-100, 100])\n",
    "plt.title(\"The function f(x) (blue) and the numbers F_n (red)\")\n",
    "    "
   ]
  },
  {
   "cell_type": "markdown",
   "metadata": {},
   "source": [
    "Alternatively, from the recursive formula $F_{n+1}=F_{n}+F_{n-1}$, we can write\n",
    "\n",
    "$$\n",
    "F_{n-1}=F_{n+1}-F_{n} \n",
    "$$\n",
    "\n",
    "to obtain\n",
    "\n",
    "$$\\begin{eqnarray*}\n",
    "F_{-1} &=&F_{1}-F_{0}=1-0=1 \\\\\n",
    "F_{-2} &=&F_{0}-F_{-1}=0-1=-1 \\\\\n",
    "F_{-3} &=&F_{-1}-F_{-2}=1-\\left( -1\\right) =2 \\\\\n",
    "F_{-3} &=&F_{-2}-F_{-3}=-1-2=-3 \\\\\n",
    "&&\\vdots \\\\\n",
    "F_{-n} &=&\\left( -1\\right) ^{n+1}F_{n}\\qquad\\text{in general, for }-n=-1,-2,-3,-4,\\dots.\n",
    "\\end{eqnarray*}$$\n"
   ]
  },
  {
   "cell_type": "markdown",
   "metadata": {},
   "source": [
    "## Other Fibonacci-like Sequences"
   ]
  },
  {
   "cell_type": "markdown",
   "metadata": {},
   "source": [
    "We can define a more general \"Fibonacci-like\"sequence $G_{n}$ by\n",
    "choosing two arbitrary real numbers $A$ and $B$, and setting\n",
    "\n",
    "$$G_{0}=A,\\qquad G_{1}=B,\\quad G_{n+2}=G_{n+1}+G_{n},\\quad n=0,1,2,\\dots $$\n",
    "\n",
    "Since the recursive relation $G_{n+2}=G_{n+1}+G_{n}$ is the same as for the\n",
    "original Fibonacci sequence $F_{n+2}=F_{n+1}+F_{n}$, we could try to express\n",
    "this more general sequence in terms of the original one. To figure out the\n",
    "relation between the generalized sequence and the original one, we\n",
    "explicitly write down the first few terms of the sequence $G_{n}:$\n",
    "\n",
    "$$A,~B,~A+B,~A+2B,~2A+3B,~3A+5B,~5A+8B,~\\dots $$\n",
    "\n",
    "We notice that the terms $G_{n}$ are obtained by adding multiples of $A$ and \n",
    "$B$, where the multiplying factors are Fibonacci numbers! That is, we\n",
    "conjecture that\n",
    "\n",
    "$$G_{n}=F_{n-1}~A+F_{n}~B,\\qquad n=1,2,3,\\dots $$\n",
    "\n",
    "Indeed, we can prove this by $\\textbf{induction}$. First, we check that this formula is\n",
    "true for $n=1$ and $n=2:$\n",
    "\n",
    "$$\\begin{eqnarray*}\n",
    "G_{1} &=&B=0\\cdot A+1\\cdot B=F_{0}~A+F_{1}~B, \\\\\n",
    "G_{2} &=&A+B=1\\cdot A+1\\cdot B=F_{1}~A+F_{2}~B.\n",
    "\\end{eqnarray*}$$\n",
    "\n",
    "So the formula holds for $n=1$ and $n=2$. Next, assume that the formula $G_{n}=F_{n-1}~A+F_{n}~B$ is valid for $n=1,2,\\dots ,N$, for some $N\\geq 2$.\n",
    "We will show that it also holds for $N+1:$\n",
    "\n",
    "$$\n",
    "\\begin{eqnarray*}\n",
    "G_{N+1} &=&G_{N}+G_{N-1} \\\\\n",
    "&=&F_{N-1}~A+F_{N}~B+F_{N-2}~A+F_{N-1}~B \\\\\n",
    "&=&\\left( F_{N-1}+F_{N}\\right) ~A+\\left( F_{N}+F_{N-1}\\right) ~B \\\\\n",
    "&=&F_{N}~A+F_{N+1}~B.\n",
    "\\end{eqnarray*}$$\n",
    "\n",
    "This proves the $\\textbf{inductive step}$, and therefore the formula is valid for all\n",
    "indexes $n\\geq 1$.\n",
    "\n",
    "We have proven:\n"
   ]
  },
  {
   "cell_type": "markdown",
   "metadata": {},
   "source": [
    "$\\textbf{Theorem}$ $\\textit{If }G_{n}\\textit{ is a generalized Fibonacci sequence, where } G_{0}=A,\\ G_{1}=B\n",
    "\\textit{ for fixed real numbers }A\\textit{ and }B\\textit{, and}$\n",
    "$$G_{n+2}=G_{n+1}+G_{n}\\qquad \\textit{for all }n=0,1,2,\\dots , $$\n",
    "then\n",
    "$$G_{n}=A~F_{n-1}+B~F_{n}~\\qquad \\textit{where }F_{n}\\textit{ is the Fibonacci\n",
    "sequence.} $$"
   ]
  },
  {
   "cell_type": "markdown",
   "metadata": {},
   "source": [
    "$\\textbf{Example}$ If we choose $A=4$ and $B=7$, and define $G_{0}=4$, $G_{1}=7$, $%\n",
    "G_{n+2}=G_{n+1}+G_{n}$ for $n=0,1,2,\\dots $, we have that the sequence $%\n",
    "G_{n} $ is \n",
    "\n",
    "$$4,~7,~11,~18,~29,~47,~76,~123,\\dots $$\n",
    "\n",
    "On the other hand, the sequence $4F_{n-1}+7F_{n}$ for $n=1,2,3,\\dots $ is:\n",
    "\n",
    "$$\\begin{eqnarray*}\n",
    "4F_{0}+7F_{1} &=&4\\cdot 0+7\\cdot 1=4 \\\\\n",
    "4F_{1}+7F_{2} &=&4\\cdot 1+7\\cdot 1=11 \\\\\n",
    "4F_{2}+7F_{3} &=&4\\cdot 1+7\\cdot 2=18 \\\\\n",
    "4F_{3}+7F_{4} &=&4\\cdot 2+7\\cdot 3=29 \\\\\n",
    "4F_{4}+7F_{5} &=&4\\cdot 3+7\\cdot 5=47 \\\\\n",
    "4F_{5}+7F_{6} &=&4\\cdot 5+7\\cdot 8=76 \\\\\n",
    "4F_{6}+7F_{7} &=&4\\cdot 8+7\\cdot 13=123 \\\\\n",
    "&&\\vdots\n",
    "\\end{eqnarray*}\n",
    "$$"
   ]
  },
  {
   "cell_type": "markdown",
   "metadata": {},
   "source": [
    "It would be natural to wonder about the limit of the ratios\n",
    "\n",
    "$$R_{n}^{G}=\\frac{G_{n+1}}{G_{n}}. $$\n",
    "\n",
    "Since $G_{n}=A~F_{n-1}+B~F_{n}$, we have\n",
    "\n",
    "$$\n",
    "\\begin{eqnarray*}\n",
    "R_{n}^{G} &=&\\frac{A~F_{n}+B~F_{n+1}}{A~F_{n-1}+B~F_{n}}=\\frac{\\frac{1}{F_{n}%\n",
    "}}{\\frac{1}{F_{n}}}\\frac{A~F_{n}+B~F_{n+1}}{A~F_{n-1}+B~F_{n}} \\\\\n",
    "&=&\\frac{A+B~\\frac{F_{n+1}}{F_{n}}}{A~\\frac{F_{n-1}}{F_{n}}+B}=\\frac{%\n",
    "A+B~R_{n}}{A~\\frac{1}{R_{n-1}}+B}.\n",
    "\\end{eqnarray*}\n",
    "$$\n",
    "\n",
    "Since $\\lim_{n\\rightarrow \\infty }R_{n}={\\varphi }$, we obtain\n",
    "\n",
    "$$\n",
    "\\begin{eqnarray*}\n",
    "\\lim_{n\\rightarrow \\infty }R_{n}^{G} &=&\\lim_{n\\rightarrow \\infty }\\frac{%\n",
    "G_{n+1}}{G_{n}}=\\lim_{n\\rightarrow \\infty }\\frac{A+B~R_{n}}{A~\\frac{1}{%\n",
    "R_{n-1}}+B}=\\frac{A+B~\\lim_{n\\rightarrow \\infty }R_{n}}{A~\\frac{1}{%\n",
    "\\lim_{n\\rightarrow \\infty }R_{n-1}}+B} \\\\\n",
    "&=&\\frac{A+B~{\\varphi }}{A~\\frac{1}{{\\varphi }}+B}=\\frac{A+B~{\\varphi }}{%\n",
    "\\frac{1}{{\\varphi }}\\left( A~+B~{\\varphi }\\right) }={\\varphi }\\frac{A+B~{%\n",
    "\\varphi }}{A+B~{\\varphi }}={\\varphi .}\n",
    "\\end{eqnarray*}\n",
    "$$\n",
    "\n",
    "So!  We have shown:"
   ]
  },
  {
   "cell_type": "markdown",
   "metadata": {},
   "source": [
    "$\\textbf{Theorem}$ $\\textit{The limit of the ratios of any generalized Fibonacci sequence is always the same: } \\textbf{the golden ratio }{\\varphi =}\\dfrac{1+\\sqrt{5}}{2}$"
   ]
  },
  {
   "cell_type": "markdown",
   "metadata": {},
   "source": [
    "## The Golden Ratio and Continued Fractions"
   ]
  },
  {
   "cell_type": "markdown",
   "metadata": {},
   "source": [
    "We have found that the golden ration ${\\varphi =}\\frac{{1+}\\sqrt{5}}{2}$\n",
    "satisfies the identity\n",
    "\n",
    "$$\n",
    "{\\varphi =1+}\\frac{1}{{\\varphi }}.\n",
    "$$\n",
    "\n",
    "Substituting for ${\\varphi }$ on the denominator in the right, we obtain\n",
    "\n",
    "$$\n",
    "{\\varphi =1+}\\frac{1}{{1+}\\frac{1}{{\\varphi }}}.\n",
    "$$\n",
    "\n",
    "Substituting again for ${\\varphi }$ on the denominator in the right, we\n",
    "obtain\n",
    "\n",
    "$$\n",
    "{\\varphi =1+}\\frac{1}{{1+}\\dfrac{1}{{1+}\\frac{1}{{\\varphi }}}}.\n",
    "$$\n",
    "\n",
    "Repeating this again,\n",
    "\n",
    "$$\n",
    "{\\varphi =1+}\\frac{1}{{1+}\\dfrac{1}{{1+}\\dfrac{1}{{1+}\\frac{1}{{\\varphi }}}}}%\n",
    ".$$\n",
    "\n",
    "And again,\n",
    "\n",
    "$$\n",
    "{\\varphi =1+}\\frac{1}{{1+}\\dfrac{1}{{1+}\\dfrac{1}{{1+}\\dfrac{1}{{1+}\\frac{1}{%\n",
    "{\\varphi }}}}}}.\n",
    "$$\n",
    "\n",
    "And again,\n",
    "\n",
    "$$\n",
    "{\\varphi =1+}\\frac{1}{{1+}\\dfrac{1}{{1+}\\dfrac{1}{{1+}\\dfrac{1}{{1+}\\dfrac{1%\n",
    "}{{1+}\\frac{1}{{\\varphi }}}}}}}.\n",
    "$$\n",
    "\n",
    "We see that this process can be $\\textit{continued indefinitely}$. This results\n",
    "in an $\\textit{infinite fraction}$. These type of expressions are known as \n",
    "$\\textbf{continued fractions}$:\n",
    "\n",
    "$$\n",
    "{\\varphi =1+}\\frac{1}{{1+}\\dfrac{1}{{1+}\\dfrac{1}{{1+}\\dfrac{1}{{1+}\\dfrac{1%\n",
    "}{{1+}\\dfrac{1}{{1+}\\dfrac{1}{1+\\dfrac{1}{{\\vdots }}}}}}}}}.\n",
    "$$\n",
    "\n",
    "We can approximate continued fractions with the finite fractions obtained by\n",
    "stopping the development at some point. In our case, we obtain the\n",
    "approximates\n",
    "\n",
    "$$\n",
    "1,~1+1,~1+\\frac{1}{1+1},~1+\\frac{1}{1+\\dfrac{1}{1+1}},~1+\\frac{1}{1+\\dfrac{1%\n",
    "}{1+\\dfrac{1}{1+1}}},~1+\\frac{1}{1+\\dfrac{1}{1+\\dfrac{1}{1+\\dfrac{1}{1+1}}}}%\n",
    ",\\dots \n",
    "$$\n",
    "\n",
    "Explicitly, these approximates are\n",
    "\n",
    "$$\n",
    "1,~2,~\\frac{3}{2},~\\frac{5}{3},~\\frac{8}{5},~\\frac{13}{8},\\dots \n",
    "$$\n",
    "\n",
    "This looks like it is just the sequence $R_{n}$! How can we prove this is the case for all $n$?\n",
    "\n",
    "We know that the sequence $R_{n}$ satisfies the recursive relation. \n",
    "\n",
    "$$\n",
    "R_{n}=\\frac{F_{n+1}}{F_{n}}=1+\\frac{F_{n-1}}{F_{n}}=1+\\frac{1}{R_{n-1}}%\n",
    ",\\qquad \\text{with}\\qquad R_{1}=1.\n",
    "$$\n",
    "\n",
    "Then, we can generate all the terms in the sequence $R_{n}$ by staring with $%\n",
    "R_{1}=1$, and then using the relation $R_{n+1}=1+\\frac{1}{R_{n}}:$\n",
    "\n",
    "$$\n",
    "\\begin{eqnarray*}\n",
    "R_{1} &=&1 \\\\\n",
    "R_{2} &=&1+\\frac{1}{R_{1}}=1+\\frac{1}{1}=2 \\\\\n",
    "R_{3} &=&1+\\frac{1}{R_{2}}=1+\\frac{1}{1+R_{1}}=1+\\frac{1}{1+1} \\\\\n",
    "R_{4} &=&1+\\frac{1}{R_{3}}=1+\\frac{1}{1+\\frac{1}{1+1}} \\\\\n",
    "R_{5} &=&1+\\frac{1}{R_{4}}=1+\\frac{1}{1+\\frac{1}{1+\\frac{1}{1+1}}} \\\\\n",
    "&&\\vdots \n",
    "\\end{eqnarray*}\n",
    "$$\n",
    "\n",
    "This confirms that both the sequence of rations $R_{n}$ and the sequence of\n",
    "approximations to the continuous fraction of ${\\varphi }$ are the same\n",
    "sequence. $\\square $\n",
    "\n",
    "In general, continued fractions are expressions of the form\n",
    "\n",
    "$$\n",
    "a_{0}+\\frac{1}{a_{1}+\\dfrac{1}{a_{2}+\\dfrac{1}{a_{3}+\\dots }}}\n",
    "$$\n",
    "\n",
    "where $a_{0}$ is an integer and $a_{1},a_{2},a_{3},\\dots $ are positive\n",
    "integers. These type of fractions are abbreviated by the notation\n",
    "\n",
    "$$\n",
    "\\left[ a_{0};a_{1},a_{2},a_{3},\\dots \\right] =a_{0}+\\frac{1}{a_{1}+\\dfrac{1}{%\n",
    "a_{2}+\\dfrac{1}{a_{3}+\\dots }}}.\n",
    "$$\n",
    "\n",
    "For example\n",
    "\n",
    "$$\n",
    "\\begin{eqnarray*}\n",
    "\\left[ 1;1,1,2\\right]  &=&1+\\frac{1}{1+\\dfrac{1}{1+\\dfrac{1}{1+1}}}=\\frac{8}{%\n",
    "5} \\\\\n",
    "&& \\\\\n",
    "\\left[ 1;,1,1,1,1,\\dots \\right]  &=&{1+}\\frac{1}{{1+}\\dfrac{1}{{1+}\\dfrac{1}{%\n",
    "{1+}\\dfrac{1}{{1+}\\dfrac{1}{{1+}\\dfrac{1}{{1+}\\dfrac{1}{1+\\dfrac{1}{{\\vdots }%\n",
    "}}}}}}}}={\\varphi }\n",
    "\\end{eqnarray*}\n",
    "$$\n",
    "\n",
    "For more information of continued fractions, see\n",
    "https://en.wikipedia.org/wiki/Continued\\_fraction \n",
    "\n"
   ]
  },
  {
   "cell_type": "markdown",
   "metadata": {},
   "source": [
    "## Appendix : Proof of the Existence of the Limit"
   ]
  },
  {
   "cell_type": "markdown",
   "metadata": {},
   "source": [
    "Here we will prove that the sequence $\\left\\{ R_{n}\\right\\} _{n=1}^{\\infty }$ has\n",
    "a finite $limit$."
   ]
  },
  {
   "cell_type": "markdown",
   "metadata": {},
   "source": [
    "First, we will establish the following:\n",
    "\n",
    "$\\textbf{Claim}\\textit{ The sequence }\\left\\{ R_{n}\\right\\} _{n=1}^{\\infty }\\textit{ satisfies the estimates}$\n",
    "\n",
    "$$1.5 < R_{n} < 1.7 \\qquad \\textit{for all }n\\geq 4. $$"
   ]
  },
  {
   "cell_type": "markdown",
   "metadata": {},
   "source": [
    "$\\textbf{Proof}$ We will prove this by induction over the index $n$, for $n=4,5,6,7,\\dots $.\n",
    "\n",
    "First, for $n=4$, we have\n",
    "\n",
    "$$\n",
    "1.5<R_{4}=1.666\\dots <1.7. \n",
    "$$\n",
    "\n",
    "So we see that the thesis is true for the first index $n=4$.\n",
    "\n",
    "Next, we will prove the $\\textit{inductive step}$: If $1.5<R_{n}<1.7$, then $1.5<R_{n+1}<1.7$.\n",
    "\n",
    "So, lets assume that $1.5<R_{n}<1.7$ for some $n\\geq 4$, then\n",
    "\n",
    "$$\n",
    "R_{n+1}=\\frac{F_{n+2}}{F_{n+1}}=\\frac{F_{n+1}+F_{n}}{F_{n+1}}=1+\\frac{F_{n}}{F_{n+1}}=1+\\frac{1}{\\frac{F_{n+1}}{F_{n}}}=1+\\frac{1}{R_{n}}. \n",
    "$$\n",
    "\n",
    "Notice that since we assumed $1.5<R_{n}<1.7$, it follows that\n",
    "\n",
    "$$\n",
    "\\frac{1}{1.7}<\\frac{1}{R_{n}}<\\frac{1}{1.5}. \n",
    "$$\n",
    "\n",
    "Then, plugging this into $R_{n+1}=1+\\frac{1}{R_{n}}$, we obtain\n",
    "\n",
    "$$\n",
    "1.5<1.5882...=1+\\frac{1}{1.7}<R_{n+1}<1+\\frac{1}{1.5}=1.6666\\dots <1.7. \n",
    "$$\n",
    "\n",
    "So! We have shown that $1.5<R_{n+1}<1.7$, which proves the inductive step.\n",
    "\n",
    "Therefore the inequalities $1.5<R_{n}<1.7$ hold for all $n\\geq 4$.$\\square$"
   ]
  },
  {
   "cell_type": "markdown",
   "metadata": {},
   "source": [
    "Now, to prove that the sequence of ratios $R_{n}$ approaches a limit value, we will\n",
    "estimate the differences $D_{n}=R_{n+1}-R_{n}$. First, as in the previous\n",
    "proof, we write\n",
    "\n",
    "$$\n",
    "R_{n}=\\frac{F_{n+1}}{F_{n}}=\\frac{F_{n}+F_{n-1}}{F_{n}}=1+\\frac{1}{R_{n-1}}. \n",
    "$$\n",
    "\n",
    "Then\n",
    "\n",
    "$$\n",
    "\\begin{eqnarray*}\n",
    "D_{n+1} &=&R_{n+2}-R_{n+1}=1+\\frac{1}{R_{n+1}}-\\left( 1+\\frac{1}{R_{n}}%\n",
    "\\right) \\\\\n",
    "&=&\\frac{1}{R_{n+1}}-\\frac{1}{R_{n}}=\\frac{R_{n}-R_{n+1}}{R_{n+1}R_{n}} \\\\\n",
    "&=&-\\frac{R_{n+1}-R_{n}}{R_{n+1}R_{n}}=-\\frac{D_{n}}{R_{n+1}R_{n}}.\n",
    "\\end{eqnarray*}\n",
    "$$\n",
    "\n",
    "Taking absolute values, and using that $R_{n}>1.5=\\frac{3}{2}$ for $n\\geq 4$, we have%\n",
    "\n",
    "$$\n",
    "\\left\\vert D_{n+1}\\right\\vert =\\frac{1}{R_{n+1}R_{n}}\\left\\vert\n",
    "D_{n}\\right\\vert <\\frac{1}{1.5\\cdot 1.5}\\left\\vert D_{n}\\right\\vert =\\frac{4%\n",
    "}{9}\\left\\vert D_{n}\\right\\vert \\qquad \\text{for }n\\geq 4. \n",
    "$$\n",
    "\n",
    "Using this estimate over and over, we obtain\n",
    "\n",
    "$$\\begin{eqnarray*}\n",
    "\\left\\vert D_{5}\\right\\vert &<&\\frac{4}{9}\\left\\vert D_{4}\\right\\vert \\\\\n",
    "\\left\\vert D_{6}\\right\\vert &<&\\frac{4}{9}\\left\\vert D_{5}\\right\\vert\n",
    "<\\left( \\frac{4}{9}\\right) ^{2}\\left\\vert D_{4}\\right\\vert \\\\\n",
    "\\left\\vert D_{7}\\right\\vert &<&\\frac{4}{9}\\left\\vert D_{6}\\right\\vert\n",
    "<\\left( \\frac{4}{9}\\right) ^{3}\\left\\vert D_{4}\\right\\vert \\\\\n",
    "\\left\\vert D_{8}\\right\\vert &<&\\frac{4}{9}\\left\\vert D_{7}\\right\\vert\n",
    "<\\left( \\frac{4}{9}\\right) ^{4}\\left\\vert D_{4}\\right\\vert \\\\\n",
    "\\left\\vert D_{9}\\right\\vert &<&\\frac{4}{9}\\left\\vert D_{8}\\right\\vert\n",
    "<\\left( \\frac{4}{9}\\right) ^{5}\\left\\vert D_{4}\\right\\vert \\\\\n",
    "&&\\vdots \\\\\n",
    "\\left\\vert D_{N+4}\\right\\vert &<&\\frac{4}{9}\\left\\vert D_{N+3}\\right\\vert\n",
    "<\\left( \\frac{4}{9}\\right) ^{N}\\left\\vert D_{4}\\right\\vert ,\\qquad\n",
    "N=1,2,3,\\dots\n",
    "\\end{eqnarray*}\n",
    "$$\n",
    "\n",
    "Since $\\left\\vert D_{4}\\right\\vert =\\left\\vert R_{5}-R_{4}\\right\\vert\n",
    "=\\left\\vert \\frac{F_{6}}{F_{5}}-\\frac{F_{5}}{F_{4}}\\right\\vert =\\left\\vert \n",
    "\\frac{8}{5}-\\frac{5}{3}\\right\\vert =\\frac{1}{15}$, we obtain\n",
    "\n",
    "$$\n",
    "\\left\\vert D_{N+4}\\right\\vert <\\frac{4}{9}\\left\\vert D_{N+3}\\right\\vert <%\n",
    "\\frac{1}{15}\\left( \\frac{4}{9}\\right) ^{N}. \n",
    "$$\n",
    "\n",
    "Now, we can write\n",
    "\n",
    "$$\n",
    "R_{n+1}=R_{n+1}-R_{n}+R_{n}=D_{n}+R_{n-1}.\n",
    "$$\n",
    "\n",
    "Then, for any $n\\geq 4$,\n",
    "\n",
    "$$\n",
    "\\begin{eqnarray*}\n",
    "R_{n+1} &=&D_{n}+D_{n-1}+R_{n-2} \\\\\n",
    "&=&D_{n}+D_{n-1}+D_{n-2}+R_{n-3} \\\\\n",
    "&&\\vdots  \\\\\n",
    "&=&D_{n}+D_{n-1}+D_{n-2}+\\dots +D_{6}+D_{5}+R_{4}\n",
    "\\end{eqnarray*}\n",
    "$$\n",
    "\n",
    "Then, for any two indexes $m>n>4$,\n",
    "\n",
    "$$\n",
    "\\begin{eqnarray*}\n",
    "R_{m}-R_{n} &=&D_{m-1}+D_{m-2}+\\dots +D_{n-1}+D_{n-2}+\\dots\n",
    "+D_{6}+D_{5}+R_{4} \\\\\n",
    "&&-\\left( D_{n-1}+D_{n-2}+\\dots +D_{6}+D_{5}+R_{4}\\right)  \\\\\n",
    "&=&D_{m-1}+D_{m-2}+\\dots +D_{n+1}+D_{n}.\n",
    "\\end{eqnarray*}$$\n",
    "\n",
    "Using the estimate $\\left\\vert D_{N+4}\\right\\vert <\\frac{4}{9}\\left\\vert\n",
    "D_{N+3}\\right\\vert <\\left( \\frac{4}{9}\\right) ^{N}\\left\\vert\n",
    "D_{4}\\right\\vert $, we obtain*\n",
    "\n",
    "$$\n",
    "\\begin{eqnarray*}\n",
    "\\left\\vert R_{m}-R_{n}\\right\\vert  &<&\\left\\vert D_{m-1}\\right\\vert\n",
    "+\\left\\vert D_{m-2}\\right\\vert +\\dots +\\left\\vert D_{n+1}\\right\\vert\n",
    "+\\left\\vert D_{n}\\right\\vert  \\\\\n",
    "&<&\\frac{1}{15}\\left( \\left( \\frac{4}{9}\\right) ^{m-5}+\\left( \\frac{4}{9}%\n",
    "\\right) ^{m-6}+\\dots +\\left( \\frac{4}{9}\\right) ^{n-3}+\\left( \\frac{4}{9}%\n",
    "\\right) ^{n-4}\\right)  \\\\\n",
    "&=&\\frac{1}{15}\\left( \\frac{4}{9}\\right) ^{n-4}\\left( \\left( \\frac{4}{9}%\n",
    "\\right) ^{m-n-1}+\\left( \\frac{4}{9}\\right) ^{m-n-2}+\\dots +\\frac{4}{9}%\n",
    "+1\\right)  \\\\\n",
    "&<&\\frac{1}{15}\\frac{\\left( \\frac{4}{9}\\right) ^{n-4}}{1-\\frac{4}{9}}<\\left( \n",
    "\\frac{4}{9}\\right) ^{n-4}.\n",
    "\\end{eqnarray*}\n",
    "$$\n",
    "\n",
    "Notice that $\\left( \\frac{4}{9}\\right) ^{n-4}\\rightarrow 0$ as $n\\rightarrow\n",
    "\\infty $. We have shown that for any small number $\\varepsilon >0$, there\n",
    "exists an index $N$ such that if $m,n>N$ then $\\left\\vert\n",
    "R_{m}-R_{n}\\right\\vert <\\varepsilon $, that is\n",
    "\n",
    "$$\n",
    "\\text{for all }\\varepsilon >0\\text{ there exits }N>0\\text{ such that if }%\n",
    "n,m>N\\text{ }\\Longrightarrow \\text{ }\\left\\vert R_{m}-R_{n}\\right\\vert\n",
    "<\\varepsilon .\n",
    "$$\n",
    "\n",
    "This statement says that the sequence $\\left\\{ R_{n}\\right\\} _{n=1}^{\\infty }\n",
    "$ is a $\\textit{Cauchy sequence**}$, and therefore it has a unique finite limit in\n",
    "the real numbers.\n",
    "\n",
    "(*) Here we use the formula to add a geometric series:\n",
    "$$\n",
    "1+q+q^{2}+q^{3}+q^{4}+\\dots =\\frac{1}{1-q}\\qquad \\text{for all } q\\textrm{ such that }~\\left\\vert q\\right\\vert <1.\n",
    "$$\n",
    "See https://en.wikipedia.org/wiki/Geometric\\_series\n",
    "\n",
    "(**) See https://en.wikipedia.org/wiki/Cauchy_sequence\n"
   ]
  }
 ],
 "metadata": {
  "kernelspec": {
   "display_name": "Python 3",
   "language": "python",
   "name": "python3"
  },
  "language_info": {
   "codemirror_mode": {
    "name": "ipython",
    "version": 3
   },
   "file_extension": ".py",
   "mimetype": "text/x-python",
   "name": "python",
   "nbconvert_exporter": "python",
   "pygments_lexer": "ipython3",
   "version": "3.6.4"
  }
 },
 "nbformat": 4,
 "nbformat_minor": 1
}
